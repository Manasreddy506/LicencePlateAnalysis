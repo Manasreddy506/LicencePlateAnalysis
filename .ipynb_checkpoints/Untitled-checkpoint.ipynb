{
 "cells": [
  {
   "cell_type": "code",
   "execution_count": 3,
   "id": "4238fd7e",
   "metadata": {},
   "outputs": [
    {
     "data": {
      "text/plain": [
       "-1"
      ]
     },
     "execution_count": 3,
     "metadata": {},
     "output_type": "execute_result"
    }
   ],
   "source": [
    "import cv2\n",
    "import numpy as np\n",
    "\n",
    "image = cv2.imread('images_onlline/WhatsApp Image 2022-10-01 at 2.01.37 PM (1).jpeg')\n",
    "sharpen_kernel = np.array([[-1,-1,-1], [-1,9,-1], [-1,-1,-1]])\n",
    "sharpen = cv2.filter2D(image, -1, sharpen_kernel)\n",
    "sharpen = cv2.resize(sharpen, (540, 540)) \n",
    "cv2.imshow('sharpen', sharpen)\n",
    "cv2.waitKey()"
   ]
  },
  {
   "cell_type": "code",
   "execution_count": 6,
   "id": "c788aca8",
   "metadata": {},
   "outputs": [],
   "source": [
    "# Importing the modules\n",
    "import cv2\n",
    "import numpy as np\n",
    "\n",
    "# Reading the image\n",
    "image = cv2.imread('images_onlline/WhatsApp Image 2022-10-01 at 2.01.37 PM (1).jpeg')\n",
    "\n",
    "# Creating the kernel with numpy\n",
    "kernel2 = np.ones((5, 5), np.float32)/25\n",
    "\n",
    "# Applying the filter\n",
    "img = cv2.filter2D(src=image, ddepth=-1, kernel=kernel2)\n",
    "img = cv2.resize(img, (540, 540)) \n",
    "# showing the image\n",
    "cv2.imshow('Kernel Blur', img)\n",
    "\n",
    "cv2.waitKey()\n",
    "cv2.destroyAllWindows()\n"
   ]
  },
  {
   "cell_type": "code",
   "execution_count": 11,
   "id": "ddfa739b",
   "metadata": {},
   "outputs": [],
   "source": [
    "import cv2 as cv\n",
    "import numpy as np\n",
    "\n",
    "def unsharp_mask(image, kernel_size=(5, 5), sigma=1.0, amount=1.0, threshold=0):\n",
    "    \"\"\"Return a sharpened version of the image, using an unsharp mask.\"\"\"\n",
    "    blurred = cv.GaussianBlur(image, kernel_size, sigma)\n",
    "    sharpened = float(amount + 1) * image - float(amount) * blurred\n",
    "    sharpened = np.maximum(sharpened, np.zeros(sharpened.shape))\n",
    "    sharpened = np.minimum(sharpened, 255 * np.ones(sharpened.shape))\n",
    "    sharpened = sharpened.round().astype(np.uint8)\n",
    "    if threshold > 0:\n",
    "        low_contrast_mask = np.absolute(image - blurred) < threshold\n",
    "        np.copyto(sharpened, image, where=low_contrast_mask)\n",
    "    return sharpened\n",
    "\n",
    "\n",
    "image = cv.imread('images_onlline/WhatsApp Image 2022-10-01 at 2.01.37 PM (1).jpeg')\n",
    "sharpened_image = unsharp_mask(image)\n",
    "img = cv2.resize(sharpened_image, (540, 540)) \n",
    "# showing the image\n",
    "cv2.imshow('Kernel Blur', img)\n",
    "#cv.imwrite('my-sharpened-image.jpg', sharpened_image)\n",
    "cv2.waitKey()\n",
    "cv2.destroyAllWindows()"
   ]
  },
  {
   "cell_type": "code",
   "execution_count": null,
   "id": "5859f391",
   "metadata": {},
   "outputs": [],
   "source": []
  }
 ],
 "metadata": {
  "kernelspec": {
   "display_name": "Python 3",
   "language": "python",
   "name": "python3"
  },
  "language_info": {
   "codemirror_mode": {
    "name": "ipython",
    "version": 3
   },
   "file_extension": ".py",
   "mimetype": "text/x-python",
   "name": "python",
   "nbconvert_exporter": "python",
   "pygments_lexer": "ipython3",
   "version": "3.8.8"
  }
 },
 "nbformat": 4,
 "nbformat_minor": 5
}
